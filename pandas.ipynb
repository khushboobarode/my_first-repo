{
 "cells": [
  {
   "cell_type": "code",
   "execution_count": 1,
   "metadata": {},
   "outputs": [
    {
     "name": "stdout",
     "output_type": "stream",
     "text": [
      "        country    capital    area  population\n",
      "0        Brazil   Brasilia   8.516      200.40\n",
      "1        Russia     Moscow  17.100      143.50\n",
      "2         India  New Dehli   3.286     1252.00\n",
      "3         China    Beijing   9.597     1357.00\n",
      "4  South Africa   Pretoria   1.221       52.98\n"
     ]
    }
   ],
   "source": [
    "dict = {\"country\": [\"Brazil\", \"Russia\", \"India\", \"China\", \"South Africa\"],\n",
    "       \"capital\": [\"Brasilia\", \"Moscow\", \"New Dehli\", \"Beijing\", \"Pretoria\"],\n",
    "       \"area\": [8.516, 17.10, 3.286, 9.597, 1.221],\n",
    "       \"population\": [200.4, 143.5, 1252, 1357, 52.98] }\n",
    "\n",
    "import pandas as pd\n",
    "b=pd.DataFrame(dict)\n",
    "print(b)\n"
   ]
  },
  {
   "cell_type": "code",
   "execution_count": 2,
   "metadata": {},
   "outputs": [
    {
     "name": "stdout",
     "output_type": "stream",
     "text": [
      "0.25.1\n"
     ]
    }
   ],
   "source": [
    "print(pd.__version__)"
   ]
  },
  {
   "cell_type": "code",
   "execution_count": 3,
   "metadata": {},
   "outputs": [
    {
     "name": "stdout",
     "output_type": "stream",
     "text": [
      "   1  3\n",
      "0  1  4\n",
      "1  3  5\n",
      "2  4  4\n",
      "3  5  3\n"
     ]
    }
   ],
   "source": [
    "d={1:[1,3,4,5],3:[4,5,4,3]}\n",
    "a=pd.DataFrame(d)\n",
    "print(a)\n"
   ]
  },
  {
   "cell_type": "code",
   "execution_count": 4,
   "metadata": {},
   "outputs": [
    {
     "name": "stdout",
     "output_type": "stream",
     "text": [
      "      company             CEO  founded\n",
      "a.     amazon       jef bezos     1994\n",
      "b.      apple        tim cook     1976\n",
      "c.     google   sundar pichai     1998\n",
      "d.   facebook  mark Zukerberg     2004\n",
      "e.  microsoft   satya nadella     1975\n"
     ]
    }
   ],
   "source": [
    "d={\"company\":[\"amazon\",\"apple\",\"google\",\"facebook\",\"microsoft\"],\"CEO\":[\"jef bezos\",\"tim cook\",\"sundar pichai\",\"mark Zukerberg\",\"satya nadella\"],\"founded\":[1994,1976,1998,2004,1975]}\n",
    "v=pd.DataFrame(d)\n",
    "v.index=[\"a.\",\"b.\",\"c.\",\"d.\",\"e.\"]\n",
    "print(v)"
   ]
  },
  {
   "cell_type": "code",
   "execution_count": 5,
   "metadata": {},
   "outputs": [
    {
     "name": "stdout",
     "output_type": "stream",
     "text": [
      "1       amazon\n",
      "2        apple\n",
      "3       google\n",
      "4     facebook\n",
      "5    microsoft\n",
      "Name: company, dtype: object\n"
     ]
    }
   ],
   "source": [
    "d={\"company\":[\"amazon\",\"apple\",\"google\",\"facebook\",\"microsoft\"],\"CEO\":[\"jef bezos\",\"tim cook\",\"sundar pichai\",\"mark Zukerberg\",\"satya nadella\"],\"founded\":[1994,1976,1998,2004,1975]}\n",
    "v=pd.DataFrame(d)\n",
    "v.index=[int(i) for i in range(1,6)]\n",
    "print(v[\"company\"])"
   ]
  },
  {
   "cell_type": "code",
   "execution_count": 6,
   "metadata": {},
   "outputs": [
    {
     "name": "stdout",
     "output_type": "stream",
     "text": [
      "Index(['company', 'CEO', 'founded'], dtype='object')\n"
     ]
    }
   ],
   "source": [
    "d={\"company\":[\"amazon\",\"apple\",\"google\",\"facebook\",\"microsoft\"],\"CEO\":[\"jef bezos\",\"tim cook\",\"sundar pichai\",\"mark Zukerberg\",\"satya nadella\"],\"founded\":[1994,1976,1998,2004,1975]}\n",
    "v=pd.DataFrame(d)\n",
    "v.index=[int(i) for i in range(1,6)]\n",
    "print(v.columns)"
   ]
  },
  {
   "cell_type": "code",
   "execution_count": 7,
   "metadata": {},
   "outputs": [
    {
     "name": "stdout",
     "output_type": "stream",
     "text": [
      "(5, 3)\n"
     ]
    }
   ],
   "source": [
    "d={\"company\":[\"amazon\",\"apple\",\"google\",\"facebook\",\"microsoft\"],\"CEO\":[\"jef bezos\",\"tim cook\",\"sundar pichai\",\"mark Zukerberg\",\"satya nadella\"],\"founded\":[1994,1976,1998,2004,1975]}\n",
    "v=pd.DataFrame(d)\n",
    "v.index=[int(i) for i in range(1,6)]\n",
    "print(v.shape)"
   ]
  },
  {
   "cell_type": "code",
   "execution_count": 8,
   "metadata": {},
   "outputs": [
    {
     "name": "stdout",
     "output_type": "stream",
     "text": [
      "    company             CEO  founded\n",
      "1    amazon       jef bezos     1994\n",
      "2     apple        tim cook     1976\n",
      "3    google   sundar pichai     1998\n",
      "4  facebook  mark Zukerberg     2004\n",
      "     company  founded\n",
      "1     amazon     1994\n",
      "2      apple     1976\n",
      "3     google     1998\n",
      "4   facebook     2004\n",
      "5  microsoft     1975\n"
     ]
    }
   ],
   "source": [
    "d={\"company\":[\"amazon\",\"apple\",\"google\",\"facebook\",\"microsoft\"],\"CEO\":[\"jef bezos\",\"tim cook\",\"sundar pichai\",\"mark Zukerberg\",\"satya nadella\"],\"founded\":[1994,1976,1998,2004,1975]}\n",
    "v=pd.DataFrame(d)\n",
    "v.index=[int(i) for i in range(1,6)]\n",
    "print(v[0:4])\n",
    "print(v[[\"company\",\"founded\"]])"
   ]
  },
  {
   "cell_type": "code",
   "execution_count": 9,
   "metadata": {},
   "outputs": [
    {
     "name": "stdout",
     "output_type": "stream",
     "text": [
      "           company             CEO\n",
      "founded                           \n",
      "1994        amazon       jef bezos\n",
      "1976         apple        tim cook\n",
      "1998        google   sundar pichai\n",
      "2004      facebook  mark Zukerberg\n",
      "1975     microsoft   satya nadella\n"
     ]
    }
   ],
   "source": [
    "d={\"company\":[\"amazon\",\"apple\",\"google\",\"facebook\",\"microsoft\"],\"CEO\":[\"jef bezos\",\"tim cook\",\"sundar pichai\",\"mark Zukerberg\",\"satya nadella\"],\"founded\":[1994,1976,1998,2004,1975]}\n",
    "v=pd.DataFrame(d)\n",
    "v.set_index(\"founded\",inplace=True)\n",
    "\n",
    "print(v)"
   ]
  },
  {
   "cell_type": "code",
   "execution_count": 10,
   "metadata": {},
   "outputs": [
    {
     "name": "stdout",
     "output_type": "stream",
     "text": [
      "15\n",
      "     company             CEO  founded\n",
      "1     amazon       jef bezos     1994\n",
      "2      apple        tim cook     1976\n",
      "3     google   sundar pichai     1998\n",
      "4   facebook  mark Zukerberg     2004\n",
      "5  microsoft   satya nadella     1975\n"
     ]
    }
   ],
   "source": [
    "d={\"company\":[\"amazon\",\"apple\",\"google\",\"facebook\",\"microsoft\"],\"CEO\":[\"jef bezos\",\"tim cook\",\"sundar pichai\",\"mark Zukerberg\",\"satya nadella\"],\"founded\":[1994,1976,1998,2004,1975]}\n",
    "v=pd.DataFrame(d)\n",
    "v.index=[int(i) for i in range(1,6)]\n",
    "print(v.size)\n",
    "v.set_index(\"founded\",inplace=False)\n",
    "\n",
    "print(v)"
   ]
  },
  {
   "cell_type": "code",
   "execution_count": 11,
   "metadata": {},
   "outputs": [
    {
     "data": {
      "text/html": [
       "<div>\n",
       "<style scoped>\n",
       "    .dataframe tbody tr th:only-of-type {\n",
       "        vertical-align: middle;\n",
       "    }\n",
       "\n",
       "    .dataframe tbody tr th {\n",
       "        vertical-align: top;\n",
       "    }\n",
       "\n",
       "    .dataframe thead th {\n",
       "        text-align: right;\n",
       "    }\n",
       "</style>\n",
       "<table border=\"1\" class=\"dataframe\">\n",
       "  <thead>\n",
       "    <tr style=\"text-align: right;\">\n",
       "      <th></th>\n",
       "      <th>company</th>\n",
       "      <th>CEO</th>\n",
       "      <th>founded</th>\n",
       "    </tr>\n",
       "  </thead>\n",
       "  <tbody>\n",
       "    <tr>\n",
       "      <td>3</td>\n",
       "      <td>facebook</td>\n",
       "      <td>mark Zukerberg</td>\n",
       "      <td>2004</td>\n",
       "    </tr>\n",
       "    <tr>\n",
       "      <td>2</td>\n",
       "      <td>google</td>\n",
       "      <td>sundar pichai</td>\n",
       "      <td>1998</td>\n",
       "    </tr>\n",
       "    <tr>\n",
       "      <td>0</td>\n",
       "      <td>amazon</td>\n",
       "      <td>jef bezos</td>\n",
       "      <td>1994</td>\n",
       "    </tr>\n",
       "    <tr>\n",
       "      <td>1</td>\n",
       "      <td>apple</td>\n",
       "      <td>tim cook</td>\n",
       "      <td>1976</td>\n",
       "    </tr>\n",
       "    <tr>\n",
       "      <td>4</td>\n",
       "      <td>microsoft</td>\n",
       "      <td>satya nadella</td>\n",
       "      <td>1975</td>\n",
       "    </tr>\n",
       "  </tbody>\n",
       "</table>\n",
       "</div>"
      ],
      "text/plain": [
       "     company             CEO  founded\n",
       "3   facebook  mark Zukerberg     2004\n",
       "2     google   sundar pichai     1998\n",
       "0     amazon       jef bezos     1994\n",
       "1      apple        tim cook     1976\n",
       "4  microsoft   satya nadella     1975"
      ]
     },
     "execution_count": 11,
     "metadata": {},
     "output_type": "execute_result"
    }
   ],
   "source": [
    "import pandas as pd\n",
    "d={\"company\":[\"amazon\",\"apple\",\"google\",\"facebook\",\"microsoft\"],\"CEO\":[\"jef bezos\",\"tim cook\",\"sundar pichai\",\"mark Zukerberg\",\"satya nadella\"],\"founded\":[1994,1976,1998,2004,1975]}\n",
    "v=pd.DataFrame(d)\n",
    "v.sort_values(\"founded\",ascending=False)\n",
    "\n"
   ]
  },
  {
   "cell_type": "code",
   "execution_count": 12,
   "metadata": {},
   "outputs": [
    {
     "name": "stdout",
     "output_type": "stream",
     "text": [
      "15\n"
     ]
    },
    {
     "data": {
      "text/html": [
       "<div>\n",
       "<style scoped>\n",
       "    .dataframe tbody tr th:only-of-type {\n",
       "        vertical-align: middle;\n",
       "    }\n",
       "\n",
       "    .dataframe tbody tr th {\n",
       "        vertical-align: top;\n",
       "    }\n",
       "\n",
       "    .dataframe thead th {\n",
       "        text-align: right;\n",
       "    }\n",
       "</style>\n",
       "<table border=\"1\" class=\"dataframe\">\n",
       "  <thead>\n",
       "    <tr style=\"text-align: right;\">\n",
       "      <th></th>\n",
       "      <th>company</th>\n",
       "      <th>CEO</th>\n",
       "    </tr>\n",
       "    <tr>\n",
       "      <th>founded</th>\n",
       "      <th></th>\n",
       "      <th></th>\n",
       "    </tr>\n",
       "  </thead>\n",
       "  <tbody>\n",
       "    <tr>\n",
       "      <td>1994</td>\n",
       "      <td>amazon</td>\n",
       "      <td>jef bezos</td>\n",
       "    </tr>\n",
       "    <tr>\n",
       "      <td>1976</td>\n",
       "      <td>apple</td>\n",
       "      <td>tim cook</td>\n",
       "    </tr>\n",
       "    <tr>\n",
       "      <td>1998</td>\n",
       "      <td>google</td>\n",
       "      <td>sundar pichai</td>\n",
       "    </tr>\n",
       "    <tr>\n",
       "      <td>2004</td>\n",
       "      <td>facebook</td>\n",
       "      <td>mark Zukerberg</td>\n",
       "    </tr>\n",
       "    <tr>\n",
       "      <td>1975</td>\n",
       "      <td>microsoft</td>\n",
       "      <td>satya nadella</td>\n",
       "    </tr>\n",
       "  </tbody>\n",
       "</table>\n",
       "</div>"
      ],
      "text/plain": [
       "           company             CEO\n",
       "founded                           \n",
       "1994        amazon       jef bezos\n",
       "1976         apple        tim cook\n",
       "1998        google   sundar pichai\n",
       "2004      facebook  mark Zukerberg\n",
       "1975     microsoft   satya nadella"
      ]
     },
     "execution_count": 12,
     "metadata": {},
     "output_type": "execute_result"
    }
   ],
   "source": [
    "d={\"company\":[\"amazon\",\"apple\",\"google\",\"facebook\",\"microsoft\"],\"CEO\":[\"jef bezos\",\"tim cook\",\"sundar pichai\",\"mark Zukerberg\",\"satya nadella\"],\"founded\":[1994,1976,1998,2004,1975]}\n",
    "v=pd.DataFrame(d)\n",
    "v.index=[int(i) for i in range(1,6)]\n",
    "print(v.size)\n",
    "v.set_index(\"founded\",inplace=False)\n"
   ]
  },
  {
   "cell_type": "code",
   "execution_count": 13,
   "metadata": {},
   "outputs": [
    {
     "data": {
      "text/html": [
       "<div>\n",
       "<style scoped>\n",
       "    .dataframe tbody tr th:only-of-type {\n",
       "        vertical-align: middle;\n",
       "    }\n",
       "\n",
       "    .dataframe tbody tr th {\n",
       "        vertical-align: top;\n",
       "    }\n",
       "\n",
       "    .dataframe thead th {\n",
       "        text-align: right;\n",
       "    }\n",
       "</style>\n",
       "<table border=\"1\" class=\"dataframe\">\n",
       "  <thead>\n",
       "    <tr style=\"text-align: right;\">\n",
       "      <th></th>\n",
       "      <th>company</th>\n",
       "      <th>CEO</th>\n",
       "      <th>founded</th>\n",
       "    </tr>\n",
       "  </thead>\n",
       "  <tbody>\n",
       "    <tr>\n",
       "      <td>0</td>\n",
       "      <td>sdksj</td>\n",
       "      <td>jef bezos</td>\n",
       "      <td>1994</td>\n",
       "    </tr>\n",
       "    <tr>\n",
       "      <td>1</td>\n",
       "      <td>apple</td>\n",
       "      <td>tim cook</td>\n",
       "      <td>1976</td>\n",
       "    </tr>\n",
       "    <tr>\n",
       "      <td>2</td>\n",
       "      <td>google</td>\n",
       "      <td>sundar pichai</td>\n",
       "      <td>1998</td>\n",
       "    </tr>\n",
       "    <tr>\n",
       "      <td>3</td>\n",
       "      <td>facebook</td>\n",
       "      <td>mark Zukerberg</td>\n",
       "      <td>2004</td>\n",
       "    </tr>\n",
       "    <tr>\n",
       "      <td>4</td>\n",
       "      <td>microsoft</td>\n",
       "      <td>satya nadella</td>\n",
       "      <td>1975</td>\n",
       "    </tr>\n",
       "  </tbody>\n",
       "</table>\n",
       "</div>"
      ],
      "text/plain": [
       "     company             CEO  founded\n",
       "0      sdksj       jef bezos     1994\n",
       "1      apple        tim cook     1976\n",
       "2     google   sundar pichai     1998\n",
       "3   facebook  mark Zukerberg     2004\n",
       "4  microsoft   satya nadella     1975"
      ]
     },
     "execution_count": 13,
     "metadata": {},
     "output_type": "execute_result"
    }
   ],
   "source": [
    "import pandas as pd\n",
    "d={\"company\":[\"amazon\",\"apple\",\"google\",\"facebook\",\"microsoft\"],\"CEO\":[\"jef bezos\",\"tim cook\",\"sundar pichai\",\"mark Zukerberg\",\"satya nadella\"],\"founded\":[1994,1976,1998,2004,1975]}\n",
    "v=pd.DataFrame(d)\n",
    "v.replace(\"amazon\",\"sdksj\")\n"
   ]
  },
  {
   "cell_type": "code",
   "execution_count": 14,
   "metadata": {},
   "outputs": [
    {
     "data": {
      "text/plain": [
       "company    1\n",
       "CEO        0\n",
       "founded    0\n",
       "dtype: int64"
      ]
     },
     "execution_count": 14,
     "metadata": {},
     "output_type": "execute_result"
    }
   ],
   "source": [
    "import pandas as pd\n",
    "d={\"company\":[\"amazon\",\"apple\",\"google\",None,\"microsoft\"],\"CEO\":[\"jef bezos\",\"tim cook\",\"sundar pichai\",\"mark Zukerberg\",\"satya nadella\"],\"founded\":[1994,1976,1998,2004,1975]}\n",
    "v=pd.DataFrame(d)\n",
    "v.isnull().sum()\n"
   ]
  },
  {
   "cell_type": "code",
   "execution_count": 15,
   "metadata": {},
   "outputs": [
    {
     "data": {
      "text/html": [
       "<div>\n",
       "<style scoped>\n",
       "    .dataframe tbody tr th:only-of-type {\n",
       "        vertical-align: middle;\n",
       "    }\n",
       "\n",
       "    .dataframe tbody tr th {\n",
       "        vertical-align: top;\n",
       "    }\n",
       "\n",
       "    .dataframe thead th {\n",
       "        text-align: right;\n",
       "    }\n",
       "</style>\n",
       "<table border=\"1\" class=\"dataframe\">\n",
       "  <thead>\n",
       "    <tr style=\"text-align: right;\">\n",
       "      <th></th>\n",
       "      <th>company</th>\n",
       "      <th>CEO</th>\n",
       "      <th>founded</th>\n",
       "    </tr>\n",
       "  </thead>\n",
       "  <tbody>\n",
       "    <tr>\n",
       "      <td>0</td>\n",
       "      <td>True</td>\n",
       "      <td>True</td>\n",
       "      <td>True</td>\n",
       "    </tr>\n",
       "    <tr>\n",
       "      <td>1</td>\n",
       "      <td>True</td>\n",
       "      <td>True</td>\n",
       "      <td>True</td>\n",
       "    </tr>\n",
       "    <tr>\n",
       "      <td>2</td>\n",
       "      <td>True</td>\n",
       "      <td>True</td>\n",
       "      <td>True</td>\n",
       "    </tr>\n",
       "    <tr>\n",
       "      <td>3</td>\n",
       "      <td>True</td>\n",
       "      <td>True</td>\n",
       "      <td>True</td>\n",
       "    </tr>\n",
       "    <tr>\n",
       "      <td>4</td>\n",
       "      <td>True</td>\n",
       "      <td>True</td>\n",
       "      <td>True</td>\n",
       "    </tr>\n",
       "  </tbody>\n",
       "</table>\n",
       "</div>"
      ],
      "text/plain": [
       "   company   CEO  founded\n",
       "0     True  True     True\n",
       "1     True  True     True\n",
       "2     True  True     True\n",
       "3     True  True     True\n",
       "4     True  True     True"
      ]
     },
     "execution_count": 15,
     "metadata": {},
     "output_type": "execute_result"
    }
   ],
   "source": [
    "import pandas as pd\n",
    "d={\"company\":[\"amazon\",\"apple\",\"google\",\"facebook\",\"microsoft\"],\"CEO\":[\"jef bezos\",\"tim cook\",\"sundar pichai\",\"mark Zukerberg\",\"satya nadella\"],\"founded\":[1994,1976,1998,2004,1975]}\n",
    "v=pd.DataFrame(d)\n",
    "v.notnull()\n"
   ]
  },
  {
   "cell_type": "code",
   "execution_count": 16,
   "metadata": {},
   "outputs": [
    {
     "name": "stdout",
     "output_type": "stream",
     "text": [
      "     company             CEO  founded\n",
      "0     amazon       jef bezos     1994\n",
      "1      apple        tim cook     1976\n",
      "2     google   sundar pichai     1998\n",
      "3   facebook  mark Zukerberg     2004\n",
      "4  microsoft   satya nadella     1975\n"
     ]
    }
   ],
   "source": [
    "import pandas as pd\n",
    "d={\"company\":[\"amazon\",\"apple\",\"google\",\"facebook\",\"microsoft\"],\"CEO\":[\"jef bezos\",\"tim cook\",\"sundar pichai\",\"mark Zukerberg\",\"satya nadella\"],\"founded\":[1994,1976,1998,2004,1975]}\n",
    "v=pd.DataFrame(d)\n",
    "v.rename(index={\"amazon\":\"hds\"},inplace=True)\n",
    "print(v)\n"
   ]
  },
  {
   "cell_type": "code",
   "execution_count": 17,
   "metadata": {},
   "outputs": [
    {
     "name": "stdout",
     "output_type": "stream",
     "text": [
      "     Company             ceo  Founded\n",
      "0     amazon       jef bezos     1994\n",
      "1      apple        tim cook     1976\n",
      "2     google   sundar pichai     1998\n",
      "3   facebook  mark Zukerberg     2004\n",
      "4  microsoft   satya nadella     1975\n"
     ]
    }
   ],
   "source": [
    "import pandas as pd\n",
    "d={\"company\":[\"amazon\",\"apple\",\"google\",\"facebook\",\"microsoft\"],\"CEO\":[\"jef bezos\",\"tim cook\",\"sundar pichai\",\"mark Zukerberg\",\"satya nadella\"],\"founded\":[1994,1976,1998,2004,1975]}\n",
    "v=pd.DataFrame(d)\n",
    "v.columns=[\"Company\",\"ceo\",\"Founded\"]\n",
    "print(v)\n"
   ]
  },
  {
   "cell_type": "code",
   "execution_count": 18,
   "metadata": {},
   "outputs": [
    {
     "name": "stdout",
     "output_type": "stream",
     "text": [
      "     company             CEO  founded\n",
      "0     amazon       jef bezos     1994\n",
      "1      apple        tim cook     1976\n",
      "2     google   sundar pichai     1998\n",
      "3   facebook  mark Zukerberg     2004\n",
      "4  microsoft   satya nadella     1975\n"
     ]
    }
   ],
   "source": [
    "import pandas as pd\n",
    "d={\"company\":[\"amazon\",\"apple\",\"google\",\"facebook\",\"microsoft\"],\"CEO\":[\"jef bezos\",\"tim cook\",\"sundar pichai\",\"mark Zukerberg\",\"satya nadella\"],\"founded\":[1994,1976,1998,2004,1975]}\n",
    "v=pd.DataFrame(d)\n",
    "v.rename({\"company\":\"brand\"},inplace=True)\n",
    "print(v)\n"
   ]
  },
  {
   "cell_type": "code",
   "execution_count": 19,
   "metadata": {},
   "outputs": [
    {
     "data": {
      "text/html": [
       "<div>\n",
       "<style scoped>\n",
       "    .dataframe tbody tr th:only-of-type {\n",
       "        vertical-align: middle;\n",
       "    }\n",
       "\n",
       "    .dataframe tbody tr th {\n",
       "        vertical-align: top;\n",
       "    }\n",
       "\n",
       "    .dataframe thead th {\n",
       "        text-align: right;\n",
       "    }\n",
       "</style>\n",
       "<table border=\"1\" class=\"dataframe\">\n",
       "  <thead>\n",
       "    <tr style=\"text-align: right;\">\n",
       "      <th></th>\n",
       "      <th>company</th>\n",
       "      <th>CEO</th>\n",
       "    </tr>\n",
       "  </thead>\n",
       "  <tbody>\n",
       "    <tr>\n",
       "      <td>0</td>\n",
       "      <td>amazon</td>\n",
       "      <td>jef bezos</td>\n",
       "    </tr>\n",
       "    <tr>\n",
       "      <td>1</td>\n",
       "      <td>apple</td>\n",
       "      <td>tim cook</td>\n",
       "    </tr>\n",
       "    <tr>\n",
       "      <td>2</td>\n",
       "      <td>google</td>\n",
       "      <td>sundar pichai</td>\n",
       "    </tr>\n",
       "    <tr>\n",
       "      <td>3</td>\n",
       "      <td>facebook</td>\n",
       "      <td>mark Zukerberg</td>\n",
       "    </tr>\n",
       "    <tr>\n",
       "      <td>4</td>\n",
       "      <td>microsoft</td>\n",
       "      <td>satya nadella</td>\n",
       "    </tr>\n",
       "  </tbody>\n",
       "</table>\n",
       "</div>"
      ],
      "text/plain": [
       "     company             CEO\n",
       "0     amazon       jef bezos\n",
       "1      apple        tim cook\n",
       "2     google   sundar pichai\n",
       "3   facebook  mark Zukerberg\n",
       "4  microsoft   satya nadella"
      ]
     },
     "execution_count": 19,
     "metadata": {},
     "output_type": "execute_result"
    }
   ],
   "source": [
    "import pandas as pd\n",
    "d={\"company\":[\"amazon\",\"apple\",\"google\",\"facebook\",\"microsoft\"],\"CEO\":[\"jef bezos\",\"tim cook\",\"sundar pichai\",\"mark Zukerberg\",\"satya nadella\"],\"founded\":[1994,1976,1998,2004,1975]}\n",
    "v=pd.DataFrame(d)\n",
    "v.drop(\"founded\",axis=1)"
   ]
  },
  {
   "cell_type": "code",
   "execution_count": 20,
   "metadata": {},
   "outputs": [
    {
     "name": "stdout",
     "output_type": "stream",
     "text": [
      "     company             CEO  founded  jan\n",
      "0     amazon       jef bezos     1994   27\n",
      "1      apple        tim cook     1976   45\n",
      "2     google   sundar pichai     1998   23\n",
      "3   facebook  mark Zukerberg     2004   17\n",
      "4  microsoft   satya nadella     1975   46\n"
     ]
    }
   ],
   "source": [
    "import pandas as pd\n",
    "d={\"company\":[\"amazon\",\"apple\",\"google\",\"facebook\",\"microsoft\"],\"CEO\":[\"jef bezos\",\"tim cook\",\"sundar pichai\",\"mark Zukerberg\",\"satya nadella\"],\"founded\":[1994,1976,1998,2004,1975]}\n",
    "v=pd.DataFrame(d)\n",
    "v[\"jan\"]=v.eval(\"2021-founded\")\n",
    "print(v)\n"
   ]
  },
  {
   "cell_type": "code",
   "execution_count": 21,
   "metadata": {},
   "outputs": [
    {
     "name": "stdout",
     "output_type": "stream",
     "text": [
      "     company             CEO  founded  jan\n",
      "0     amazon       jef bezos     1994   27\n",
      "1      apple        tim cook     1976   45\n",
      "2     google   sundar pichai     1998   23\n",
      "3   facebook  mark Zukerberg     2004   17\n",
      "4  microsoft   satya nadella     1975   46\n"
     ]
    }
   ],
   "source": [
    "import pandas as pd\n",
    "d={\"company\":[\"amazon\",\"apple\",\"google\",\"facebook\",\"microsoft\"],\"CEO\":[\"jef bezos\",\"tim cook\",\"sundar pichai\",\"mark Zukerberg\",\"satya nadella\"],\"founded\":[1994,1976,1998,2004,1975]}\n",
    "v=pd.DataFrame(d)\n",
    "v[\"jan\"]=v.eval(\"2021-founded\")\n",
    "print(v)\n"
   ]
  },
  {
   "cell_type": "code",
   "execution_count": 22,
   "metadata": {},
   "outputs": [
    {
     "data": {
      "text/html": [
       "<div>\n",
       "<style scoped>\n",
       "    .dataframe tbody tr th:only-of-type {\n",
       "        vertical-align: middle;\n",
       "    }\n",
       "\n",
       "    .dataframe tbody tr th {\n",
       "        vertical-align: top;\n",
       "    }\n",
       "\n",
       "    .dataframe thead th {\n",
       "        text-align: right;\n",
       "    }\n",
       "</style>\n",
       "<table border=\"1\" class=\"dataframe\">\n",
       "  <thead>\n",
       "    <tr style=\"text-align: right;\">\n",
       "      <th></th>\n",
       "      <th>founded</th>\n",
       "      <th>journy</th>\n",
       "    </tr>\n",
       "  </thead>\n",
       "  <tbody>\n",
       "    <tr>\n",
       "      <td>count</td>\n",
       "      <td>5.000000</td>\n",
       "      <td>5.000000</td>\n",
       "    </tr>\n",
       "    <tr>\n",
       "      <td>mean</td>\n",
       "      <td>1989.400000</td>\n",
       "      <td>31.600000</td>\n",
       "    </tr>\n",
       "    <tr>\n",
       "      <td>std</td>\n",
       "      <td>13.183323</td>\n",
       "      <td>13.183323</td>\n",
       "    </tr>\n",
       "    <tr>\n",
       "      <td>min</td>\n",
       "      <td>1975.000000</td>\n",
       "      <td>17.000000</td>\n",
       "    </tr>\n",
       "    <tr>\n",
       "      <td>25%</td>\n",
       "      <td>1976.000000</td>\n",
       "      <td>23.000000</td>\n",
       "    </tr>\n",
       "    <tr>\n",
       "      <td>50%</td>\n",
       "      <td>1994.000000</td>\n",
       "      <td>27.000000</td>\n",
       "    </tr>\n",
       "    <tr>\n",
       "      <td>75%</td>\n",
       "      <td>1998.000000</td>\n",
       "      <td>45.000000</td>\n",
       "    </tr>\n",
       "    <tr>\n",
       "      <td>max</td>\n",
       "      <td>2004.000000</td>\n",
       "      <td>46.000000</td>\n",
       "    </tr>\n",
       "  </tbody>\n",
       "</table>\n",
       "</div>"
      ],
      "text/plain": [
       "           founded     journy\n",
       "count     5.000000   5.000000\n",
       "mean   1989.400000  31.600000\n",
       "std      13.183323  13.183323\n",
       "min    1975.000000  17.000000\n",
       "25%    1976.000000  23.000000\n",
       "50%    1994.000000  27.000000\n",
       "75%    1998.000000  45.000000\n",
       "max    2004.000000  46.000000"
      ]
     },
     "execution_count": 22,
     "metadata": {},
     "output_type": "execute_result"
    }
   ],
   "source": [
    "import pandas as pd\n",
    "d={\"company\":[\"amazon\",\"apple\",\"google\",\"facebook\",\"microsoft\"],\"CEO\":[\"jef bezos\",\"tim cook\",\"sundar pichai\",\"mark Zukerberg\",\"satya nadella\"],\"founded\":[1994,1976,1998,2004,1975]}\n",
    "v=pd.DataFrame(d)\n",
    "v[\"journy\"]=v.eval(\"2021-founded\")\n",
    "v.describe()\n"
   ]
  },
  {
   "cell_type": "code",
   "execution_count": 23,
   "metadata": {},
   "outputs": [
    {
     "data": {
      "text/plain": [
       "17"
      ]
     },
     "execution_count": 23,
     "metadata": {},
     "output_type": "execute_result"
    }
   ],
   "source": [
    "import pandas as pd\n",
    "d={\"company\":[\"amazon\",\"apple\",\"google\",\"facebook\",\"microsoft\"],\"CEO\":[\"jef bezos\",\"tim cook\",\"sundar pichai\",\"mark Zukerberg\",\"satya nadella\"],\"founded\":[1994,1976,1998,2004,1975]}\n",
    "v=pd.DataFrame(d)\n",
    "v[\"journy\"]=v.eval(\"2021-founded\")\n",
    "v.founded.max()\n",
    "v.founded.min()\n",
    "v.journy.min()\n"
   ]
  },
  {
   "cell_type": "code",
   "execution_count": 24,
   "metadata": {},
   "outputs": [
    {
     "data": {
      "text/html": [
       "<div>\n",
       "<style scoped>\n",
       "    .dataframe tbody tr th:only-of-type {\n",
       "        vertical-align: middle;\n",
       "    }\n",
       "\n",
       "    .dataframe tbody tr th {\n",
       "        vertical-align: top;\n",
       "    }\n",
       "\n",
       "    .dataframe thead th {\n",
       "        text-align: right;\n",
       "    }\n",
       "</style>\n",
       "<table border=\"1\" class=\"dataframe\">\n",
       "  <thead>\n",
       "    <tr style=\"text-align: right;\">\n",
       "      <th></th>\n",
       "      <th>company</th>\n",
       "      <th>CEO</th>\n",
       "      <th>founded</th>\n",
       "    </tr>\n",
       "  </thead>\n",
       "  <tbody>\n",
       "    <tr>\n",
       "      <td>1</td>\n",
       "      <td>apple</td>\n",
       "      <td>tim cook</td>\n",
       "      <td>1976</td>\n",
       "    </tr>\n",
       "  </tbody>\n",
       "</table>\n",
       "</div>"
      ],
      "text/plain": [
       "  company       CEO  founded\n",
       "1   apple  tim cook     1976"
      ]
     },
     "execution_count": 24,
     "metadata": {},
     "output_type": "execute_result"
    }
   ],
   "source": [
    "import pandas as pd\n",
    "d={\"company\":[\"amazon\",\"apple\",\"google\",\"facebook\",\"microsoft\"],\"CEO\":[\"jef bezos\",\"tim cook\",\"sundar pichai\",\"mark Zukerberg\",\"satya nadella\"],\"founded\":[1994,1976,1998,2004,1975]}\n",
    "v=pd.DataFrame(d)\n",
    "v[v.index==1]"
   ]
  },
  {
   "cell_type": "code",
   "execution_count": 25,
   "metadata": {},
   "outputs": [],
   "source": [
    "import pandas as pd\n",
    "d={\"company\":[\"amazon\",\"apple\",\"google\",\"facebook\",\"microsoft\"],\"CEO\":[\"jef bezos\",\"tim cook\",\"sundar pichai\",\"mark Zukerberg\",\"satya nadella\"],\"founded\":[1994,1976,1998,2004,1975]}\n",
    "v=pd.DataFrame(d)\n"
   ]
  },
  {
   "cell_type": "code",
   "execution_count": 26,
   "metadata": {},
   "outputs": [
    {
     "data": {
      "text/plain": [
       "1    a\n",
       "2    b\n",
       "dtype: object"
      ]
     },
     "execution_count": 26,
     "metadata": {},
     "output_type": "execute_result"
    }
   ],
   "source": [
    "pd.Series({1:\"a\",2:\"b\"})"
   ]
  },
  {
   "cell_type": "code",
   "execution_count": 27,
   "metadata": {},
   "outputs": [
    {
     "name": "stdout",
     "output_type": "stream",
     "text": [
      "3.7.4\n"
     ]
    }
   ],
   "source": [
    "from platform import python_version\n",
    "print(python_version())"
   ]
  },
  {
   "cell_type": "code",
   "execution_count": 28,
   "metadata": {},
   "outputs": [
    {
     "name": "stderr",
     "output_type": "stream",
     "text": [
      "C:\\Users\\hp\\Anaconda3\\lib\\site-packages\\ipykernel_launcher.py:3: FutureWarning: The Panel class is removed from pandas. Accessing it from the top-level namespace will also be removed in the next version\n",
      "  This is separate from the ipykernel package so we can avoid doing imports until\n"
     ]
    },
    {
     "ename": "TypeError",
     "evalue": "Panel() takes no arguments",
     "output_type": "error",
     "traceback": [
      "\u001b[1;31m---------------------------------------------------------------------------\u001b[0m",
      "\u001b[1;31mTypeError\u001b[0m                                 Traceback (most recent call last)",
      "\u001b[1;32m<ipython-input-28-3dd9b878782a>\u001b[0m in \u001b[0;36m<module>\u001b[1;34m\u001b[0m\n\u001b[0;32m      1\u001b[0m \u001b[1;32mimport\u001b[0m \u001b[0mpandas\u001b[0m \u001b[1;32mas\u001b[0m \u001b[0mpd\u001b[0m\u001b[1;33m\u001b[0m\u001b[1;33m\u001b[0m\u001b[0m\n\u001b[0;32m      2\u001b[0m \u001b[1;32mimport\u001b[0m \u001b[0mnumpy\u001b[0m \u001b[1;32mas\u001b[0m \u001b[0mnp\u001b[0m\u001b[1;33m\u001b[0m\u001b[1;33m\u001b[0m\u001b[0m\n\u001b[1;32m----> 3\u001b[1;33m \u001b[0mpd\u001b[0m\u001b[1;33m.\u001b[0m\u001b[0mPanel\u001b[0m\u001b[1;33m(\u001b[0m\u001b[0mnp\u001b[0m\u001b[1;33m.\u001b[0m\u001b[0mrandom\u001b[0m\u001b[1;33m.\u001b[0m\u001b[0mrand\u001b[0m\u001b[1;33m(\u001b[0m\u001b[1;36m2\u001b[0m\u001b[1;33m,\u001b[0m\u001b[1;36m4\u001b[0m\u001b[1;33m,\u001b[0m\u001b[1;36m5\u001b[0m\u001b[1;33m)\u001b[0m\u001b[1;33m)\u001b[0m\u001b[1;33m\u001b[0m\u001b[1;33m\u001b[0m\u001b[0m\n\u001b[0m",
      "\u001b[1;31mTypeError\u001b[0m: Panel() takes no arguments"
     ]
    }
   ],
   "source": [
    "import pandas as pd\n",
    "import numpy as np\n",
    "pd.Panel(np.random.rand(2,4,5))"
   ]
  },
  {
   "cell_type": "code",
   "execution_count": null,
   "metadata": {},
   "outputs": [],
   "source": [
    "import pandas as pd\n",
    "Data =[1, 3, 4, 5, 6, 2, 9]\n",
    "s = pd.Series(Data)     \n",
    "Index =['a', 'b', 'c', 'd', 'e', 'f', 'g']  \n",
    "si = pd.Series(Data, Index)  \n",
    "print(si)"
   ]
  },
  {
   "cell_type": "code",
   "execution_count": null,
   "metadata": {},
   "outputs": [],
   "source": []
  },
  {
   "cell_type": "code",
   "execution_count": 30,
   "metadata": {},
   "outputs": [
    {
     "name": "stdout",
     "output_type": "stream",
     "text": [
      "0    indore\n",
      "1    bhopal\n",
      "2    baitul\n",
      "3        mp\n",
      "dtype: object\n",
      "a    indore\n",
      "b    bhopal\n",
      "c    baitul\n",
      "d        mp\n",
      "dtype: object\n"
     ]
    }
   ],
   "source": [
    "d=[\"indore\",\"bhopal\",\"baitul\",\"mp\"]\n",
    "a=[\"a\",\"b\",\"c\",\"d\"]\n",
    "se=pd.Series(d)\n",
    "s=pd.Series(d,a)\n",
    "print(se)\n",
    "print(s)"
   ]
  },
  {
   "cell_type": "code",
   "execution_count": 31,
   "metadata": {},
   "outputs": [
    {
     "name": "stdout",
     "output_type": "stream",
     "text": [
      "0    {'indore': 'bhopal'}\n",
      "1                  baitul\n",
      "2                      mp\n",
      "3                      up\n",
      "dtype: object\n",
      "a    {'indore': 'bhopal'}\n",
      "b                  baitul\n",
      "c                      mp\n",
      "d                      up\n",
      "dtype: object\n"
     ]
    }
   ],
   "source": [
    "d=[{\"indore\":\"bhopal\"},\"baitul\",\"mp\",\"up\"]\n",
    "a=[\"a\",\"b\",\"c\",\"d\"]\n",
    "se=pd.Series(d)\n",
    "s=pd.Series(d,a)\n",
    "print(se)\n",
    "print(s)"
   ]
  },
  {
   "cell_type": "code",
   "execution_count": 32,
   "metadata": {},
   "outputs": [
    {
     "name": "stdout",
     "output_type": "stream",
     "text": [
      "1    [a, v]\n",
      "2         b\n",
      "3         c\n",
      "4         d\n",
      "5         e\n",
      "dtype: object\n"
     ]
    }
   ],
   "source": [
    "d={1:[\"a\",\"v\"],2:\"b\",3:\"c\",4:\"d\",5:\"e\"}\n",
    "se=pd.Series(d)\n",
    "print(se)"
   ]
  },
  {
   "cell_type": "code",
   "execution_count": 33,
   "metadata": {},
   "outputs": [
    {
     "name": "stdout",
     "output_type": "stream",
     "text": [
      "   a  b  c\n",
      "5  2  5  4\n",
      "6  3  6  5\n",
      "7  4  7  6\n"
     ]
    }
   ],
   "source": [
    "d={\"a\":[2,3,4],\"b\":[5,6,7],'c':[4,5,6]}\n",
    "a=pd.DataFrame(d)\n",
    "a.index=(int(i) for i in range(5,8))\n",
    "print(a)"
   ]
  },
  {
   "cell_type": "code",
   "execution_count": 34,
   "metadata": {},
   "outputs": [
    {
     "name": "stdout",
     "output_type": "stream",
     "text": [
      "       brand             CEO  founded\n",
      "0     amazon       jef bezos     1994\n",
      "1      apple        tim cook     1976\n",
      "2     google   sundar pichai     1998\n",
      "3   facebook  mark Zukerberg     2004\n",
      "4  microsoft   satya nadella     1975\n"
     ]
    }
   ],
   "source": [
    "import pandas as pd\n",
    "d={\"company\":[\"amazon\",\"apple\",\"google\",\"facebook\",\"microsoft\"],\"CEO\":[\"jef bezos\",\"tim cook\",\"sundar pichai\",\"mark Zukerberg\",\"satya nadella\"],\"founded\":[1994,1976,1998,2004,1975]}\n",
    "v=pd.DataFrame(d)\n",
    "v.rename(columns={\"company\":\"brand\"},inplace=True)\n",
    "print(v)\n"
   ]
  },
  {
   "cell_type": "code",
   "execution_count": 35,
   "metadata": {},
   "outputs": [
    {
     "name": "stdout",
     "output_type": "stream",
     "text": [
      "   p  q  r\n",
      "a  1  2  3\n",
      "b  4  5  6\n",
      "c  7  8  9\n",
      "d  0  9  8\n",
      "   p  q\n",
      "b  4  5\n",
      "c  7  8\n"
     ]
    }
   ],
   "source": [
    "d=[[1,2,3],[4,5,6],[7,8,9],[0,9,8]]\n",
    "#df=pd.Series(d)\n",
    "f=pd.DataFrame(d)\n",
    "f.index=[\"a\",\"b\",\"c\",\"d\"]\n",
    "f.columns=[\"p\",\"q\",\"r\"]\n",
    "print(f)\n",
    "a=f[1:3]\n",
    "print(a[[\"p\",\"q\"]])\n"
   ]
  },
  {
   "cell_type": "code",
   "execution_count": null,
   "metadata": {},
   "outputs": [],
   "source": []
  }
 ],
 "metadata": {
  "kernelspec": {
   "display_name": "Python 3",
   "language": "python",
   "name": "python3"
  },
  "language_info": {
   "codemirror_mode": {
    "name": "ipython",
    "version": 3
   },
   "file_extension": ".py",
   "mimetype": "text/x-python",
   "name": "python",
   "nbconvert_exporter": "python",
   "pygments_lexer": "ipython3",
   "version": "3.7.4"
  }
 },
 "nbformat": 4,
 "nbformat_minor": 2
}
